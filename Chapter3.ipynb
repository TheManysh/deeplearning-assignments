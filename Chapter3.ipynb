{
 "cells": [
  {
   "cell_type": "markdown",
   "metadata": {},
   "source": [
    "# Installing and importing packages\n"
   ]
  },
  {
   "cell_type": "code",
   "execution_count": 34,
   "metadata": {},
   "outputs": [
    {
     "name": "stdout",
     "output_type": "stream",
     "text": [
      "Requirement already satisfied: numpy in ./venv/lib/python3.9/site-packages (from -r requirements.txt (line 1)) (2.0.2)\n",
      "Requirement already satisfied: matplotlib in ./venv/lib/python3.9/site-packages (from -r requirements.txt (line 2)) (3.9.2)\n",
      "Requirement already satisfied: contourpy>=1.0.1 in ./venv/lib/python3.9/site-packages (from matplotlib->-r requirements.txt (line 2)) (1.3.0)\n",
      "Requirement already satisfied: cycler>=0.10 in ./venv/lib/python3.9/site-packages (from matplotlib->-r requirements.txt (line 2)) (0.12.1)\n",
      "Requirement already satisfied: fonttools>=4.22.0 in ./venv/lib/python3.9/site-packages (from matplotlib->-r requirements.txt (line 2)) (4.54.1)\n",
      "Requirement already satisfied: kiwisolver>=1.3.1 in ./venv/lib/python3.9/site-packages (from matplotlib->-r requirements.txt (line 2)) (1.4.7)\n",
      "Requirement already satisfied: packaging>=20.0 in ./venv/lib/python3.9/site-packages (from matplotlib->-r requirements.txt (line 2)) (24.1)\n",
      "Requirement already satisfied: pillow>=8 in ./venv/lib/python3.9/site-packages (from matplotlib->-r requirements.txt (line 2)) (10.4.0)\n",
      "Requirement already satisfied: pyparsing>=2.3.1 in ./venv/lib/python3.9/site-packages (from matplotlib->-r requirements.txt (line 2)) (3.1.4)\n",
      "Requirement already satisfied: python-dateutil>=2.7 in ./venv/lib/python3.9/site-packages (from matplotlib->-r requirements.txt (line 2)) (2.9.0.post0)\n",
      "Requirement already satisfied: importlib-resources>=3.2.0 in ./venv/lib/python3.9/site-packages (from matplotlib->-r requirements.txt (line 2)) (6.4.5)\n",
      "Requirement already satisfied: zipp>=3.1.0 in ./venv/lib/python3.9/site-packages (from importlib-resources>=3.2.0->matplotlib->-r requirements.txt (line 2)) (3.20.2)\n",
      "Requirement already satisfied: six>=1.5 in ./venv/lib/python3.9/site-packages (from python-dateutil>=2.7->matplotlib->-r requirements.txt (line 2)) (1.16.0)\n"
     ]
    }
   ],
   "source": [
    "! pip install -r requirements.txt"
   ]
  },
  {
   "cell_type": "code",
   "execution_count": 35,
   "metadata": {},
   "outputs": [],
   "source": [
    "import warnings\n",
    "warnings.filterwarnings('ignore')"
   ]
  },
  {
   "cell_type": "code",
   "execution_count": 36,
   "metadata": {},
   "outputs": [],
   "source": [
    "import random\n",
    "import math\n",
    "import numpy as np\n",
    "from matplotlib import pyplot as plt"
   ]
  },
  {
   "cell_type": "code",
   "execution_count": 37,
   "metadata": {},
   "outputs": [],
   "source": [
    "data = np.random.randn(500, 2)"
   ]
  },
  {
   "cell_type": "code",
   "execution_count": 38,
   "metadata": {},
   "outputs": [
    {
     "name": "stdout",
     "output_type": "stream",
     "text": [
      "[1.0921377  0.67747196]\n",
      "x:  1.09213770140744\n",
      "y:  0.6774719637508223\n"
     ]
    }
   ],
   "source": [
    "print(data[0])\n",
    "print(\"x: \", data[0, 0])\n",
    "print(\"y: \", data[0, 1])"
   ]
  },
  {
   "cell_type": "markdown",
   "metadata": {},
   "source": [
    "## Lets work on simple linear regression\n",
    "\n",
    "y = mx + b\n"
   ]
  },
  {
   "cell_type": "code",
   "execution_count": 39,
   "metadata": {},
   "outputs": [
    {
     "name": "stdout",
     "output_type": "stream",
     "text": [
      "[0. 0.]\n"
     ]
    }
   ],
   "source": [
    "theta = np.zeros(2)\n",
    "print(theta)"
   ]
  },
  {
   "cell_type": "markdown",
   "metadata": {},
   "source": [
    "## Defining loss function\n",
    "\n",
    "MSE = 1/ N \\* sum(y - y_hat)^2\n"
   ]
  },
  {
   "cell_type": "code",
   "execution_count": 40,
   "metadata": {},
   "outputs": [
    {
     "name": "stdout",
     "output_type": "stream",
     "text": [
      "loss:  1.9905998985284985\n"
     ]
    }
   ],
   "source": [
    "def loss_function(data, theta):\n",
    "    m = theta[0]\n",
    "    b = theta[1]\n",
    "    loss = 0\n",
    "\n",
    "    for i in range(len(data)):\n",
    "        x = data[i, 0]\n",
    "        y = data[i, 1]\n",
    "        loss += (y - (m * x + b)) ** 2\n",
    "\n",
    "        y_hat = (m*x + b)\n",
    "        loss += (y - y_hat) ** 2\n",
    "    \n",
    "    return loss / len(data)\n",
    "\n",
    "\n",
    "print(\"loss: \", loss_function(data, theta))\n"
   ]
  },
  {
   "cell_type": "markdown",
   "metadata": {},
   "source": [
    "## Computing the gradient of the loss function\n",
    "\n",
    "dJ/dm = 2/N _ sum (-x _ (y - \\hat_y))\n"
   ]
  },
  {
   "cell_type": "code",
   "execution_count": 41,
   "metadata": {},
   "outputs": [
    {
     "name": "stdout",
     "output_type": "stream",
     "text": [
      "gradients:  [-2.44559537e-07 -1.78158077e-07]\n"
     ]
    }
   ],
   "source": [
    "def compute_gradients(data, theta):\n",
    "    gradients = np.zeros(2) # initialize gradients with 0\n",
    "    N = float(len(data)) # number of data\n",
    "    m = theta[0]\n",
    "    b = theta[1]\n",
    "\n",
    "    for i in range(len(data)):\n",
    "        x = data[i, 0]\n",
    "        y = data[i, 1]\n",
    "        gradients[0] += -(2/N) * x * (y - (m*x + b)) # partial derivative with respect to m\n",
    "        gradients[1] += -(2/N) * (y - (m*x + b))  # partial derivative with respect to b\n",
    "\n",
    "        epsilon = 1e-6\n",
    "        gradients = np.divide(gradients, N + epsilon) # to prevent division by zero error because of N = 0\n",
    "\n",
    "    return gradients\n",
    "\n",
    "print(\"gradients: \", compute_gradients(data, theta))"
   ]
  },
  {
   "cell_type": "markdown",
   "metadata": {},
   "source": [
    "## Updating the model paramaters\n",
    "\n",
    "m = m - lr \\* dJ/dm\n"
   ]
  },
  {
   "cell_type": "code",
   "execution_count": 42,
   "metadata": {},
   "outputs": [],
   "source": [
    "num_iterations = 100000\n",
    "lr = 1e-2\n",
    "loss = []\n",
    "theta = np.zeros(2)\n",
    "\n",
    "for t in range(num_iterations):\n",
    "    gradients = compute_gradients(data, theta)\n",
    "    theta -= lr * gradients\n",
    "    # store the loss value for visualization\n",
    "    loss.append(loss_function(data, theta))"
   ]
  },
  {
   "cell_type": "code",
   "execution_count": 43,
   "metadata": {},
   "outputs": [
    {
     "data": {
      "text/plain": [
       "Text(0.5, 1.0, 'Gradient Descent')"
      ]
     },
     "execution_count": 43,
     "metadata": {},
     "output_type": "execute_result"
    },
    {
     "data": {
      "image/png": "[encoded data removed]",
      "text/plain": [
       "<Figure size 640x480 with 1 Axes>"
      ]
     },
     "metadata": {},
     "output_type": "display_data"
    }
   ],
   "source": [
    "plt.plot(loss)\n",
    "plt.grid()\n",
    "plt.xlabel('Training Iterations')\n",
    "plt.ylabel('Cost')\n",
    "plt.title('Gradient Descent')"
   ]
  },
  {
   "cell_type": "markdown",
   "metadata": {},
   "source": [
    "# Gradient descent versus stochastic gradient descent\n"
   ]
  },
  {
   "cell_type": "markdown",
   "metadata": {},
   "source": [
    "## mini-batch gradient descent\n"
   ]
  },
  {
   "cell_type": "code",
   "execution_count": 48,
   "metadata": {},
   "outputs": [
    {
     "name": "stdout",
     "output_type": "stream",
     "text": [
      "Theta from minibatch in 1000 iters:  [ 0.0354574  -0.09420295]\n"
     ]
    }
   ],
   "source": [
    "def minibatch(data, theta, lr = 1e-2, minibatch_ratio=0.01, num_iterations=1000):\n",
    "    minibatch_size = int(math.ceil(len(data) * minibatch_ratio))\n",
    "    for t in range( num_iterations):\n",
    "        sample_size = random.sample(range(len(data)), minibatch_size) # get random indices\n",
    "        np.random.shuffle(data) # shuffle the data]\n",
    "        sample_data = data[0:sample_size[0], :] # get the sample data\n",
    "        gradients = compute_gradients(sample_data, theta)\n",
    "        theta -= lr * gradients\n",
    "\n",
    "    return theta\n",
    "\n",
    "minibatch = minibatch(data, theta)\n",
    "print(\"Theta from minibatch in 1000 iters: \", minibatch)"
   ]
  },
  {
   "cell_type": "markdown",
   "metadata": {},
   "source": [
    "## Momentum-based gradient descent\n"
   ]
  },
  {
   "cell_type": "code",
   "execution_count": 50,
   "metadata": {},
   "outputs": [
    {
     "name": "stdout",
     "output_type": "stream",
     "text": [
      "Theta from momentum in 1000 iters:  [ 0.03565045 -0.09403205]\n"
     ]
    }
   ],
   "source": [
    "def momentum(data, theta, lr = 1e-2, gamma = 0.9, num_iterations = 1000):\n",
    "    vt = np.zeros(2) # initialize vt\n",
    "    for t in range(num_iterations):\n",
    "        gradients = compute_gradients(data, theta)\n",
    "        vt = gamma * vt + lr * gradients\n",
    "        theta -= vt\n",
    "\n",
    "    return theta\n",
    "\n",
    "\n",
    "print(\"Theta from momentum in 1000 iters: \", momentum(data, theta))"
   ]
  },
  {
   "cell_type": "markdown",
   "metadata": {},
   "source": [
    "## Nesterov accelerated gradient\n"
   ]
  },
  {
   "cell_type": "code",
   "execution_count": 51,
   "metadata": {},
   "outputs": [
    {
     "name": "stdout",
     "output_type": "stream",
     "text": [
      "Theta from NAG in 1000 iters:  [ 0.03584315 -0.09386147]\n"
     ]
    }
   ],
   "source": [
    "def NAG(data, theta, lr = 1e-2, gamma = 0.9, num_iterations = 1000):\n",
    "    vt = np.zeros(2) \n",
    "    for t in range(num_iterations):\n",
    "        gradients = compute_gradients(data, theta - gamma * vt)\n",
    "        vt = gamma * vt + lr * gradients\n",
    "        theta -= vt\n",
    "\n",
    "    return theta\n",
    "\n",
    "print(\"Theta from NAG in 1000 iters: \", NAG(data, theta))"
   ]
  },
  {
   "cell_type": "markdown",
   "metadata": {},
   "source": [
    "# Adaptive methods of gradient descent\n"
   ]
  },
  {
   "cell_type": "markdown",
   "metadata": {},
   "source": [
    "## Adagrad\n"
   ]
  },
  {
   "cell_type": "code",
   "execution_count": 55,
   "metadata": {},
   "outputs": [
    {
     "name": "stdout",
     "output_type": "stream",
     "text": [
      "Theta from AdaGrad in 1000 iters:  [0.03641392 0.11893273]\n"
     ]
    }
   ],
   "source": [
    "def AdaGrad(data, theta, lr=1e-2, epsilon=1e-6, num_iterations=10000):\n",
    "    G = np.zeros(2) # initialize G\n",
    "    for t in range(num_iterations):\n",
    "        gradients = compute_gradients(data, theta)\n",
    "        G += gradients ** 2\n",
    "        theta -= lr * gradients / (np.sqrt(G + epsilon))\n",
    "\n",
    "    return theta\n",
    "\n",
    "print(\"Theta from AdaGrad in 1000 iters: \", AdaGrad(data, theta))"
   ]
  },
  {
   "cell_type": "markdown",
   "metadata": {},
   "source": [
    "## Ada delta\n"
   ]
  },
  {
   "cell_type": "code",
   "execution_count": 56,
   "metadata": {},
   "outputs": [
    {
     "name": "stdout",
     "output_type": "stream",
     "text": [
      "Theta from AdaDelta in 1000 iters:  [0.03640614 0.11894148]\n"
     ]
    }
   ],
   "source": [
    "def AdaDelta(data, theta, gamma=0.9, epsilon=1e-5, num_iterations=1000):\n",
    "    E_grad2 = np.zeros(2)\n",
    "    E_delta_theta2 = np.zeros(2)\n",
    "\n",
    "    for t in range(num_iterations):\n",
    "        gradients = compute_gradients(data, theta)\n",
    "        E_grad2 = gamma * E_grad2 + (1 - gamma) * gradients ** 2\n",
    "        delta_theta = -np.sqrt(E_delta_theta2 + epsilon) / np.sqrt(E_grad2 + epsilon) * gradients\n",
    "        E_delta_theta2 = gamma * E_delta_theta2 + (1 - gamma) * delta_theta ** 2\n",
    "        theta += delta_theta\n",
    "\n",
    "    return theta\n",
    "\n",
    "\n",
    "print(\"Theta from AdaDelta in 1000 iters: \", AdaDelta(data, theta))"
   ]
  },
  {
   "cell_type": "markdown",
   "metadata": {},
   "source": [
    "## Overcomming the limitations of Adagrad using RMSProp\n"
   ]
  },
  {
   "cell_type": "code",
   "execution_count": 57,
   "metadata": {},
   "outputs": [
    {
     "name": "stdout",
     "output_type": "stream",
     "text": [
      "Theta from RMSProp in 1000 iters:  [0.03632836 0.11902903]\n"
     ]
    }
   ],
   "source": [
    "def RMSProp(data, theta, lr=1e-2, gamma=0.9, epsilon=1e-6, num_iterations=1000):\n",
    "    E_grad2 = np.zeros(2)\n",
    "    for t in range(num_iterations):\n",
    "        gradients = compute_gradients(data, theta)\n",
    "        E_grad2 = gamma * E_grad2 + (1 - gamma) * gradients ** 2\n",
    "        theta -= lr * gradients / (np.sqrt(E_grad2 + epsilon))\n",
    "    return theta\n",
    "\n",
    "print(\"Theta from RMSProp in 1000 iters: \", RMSProp(data, theta))"
   ]
  },
  {
   "cell_type": "markdown",
   "metadata": {},
   "source": [
    "## Adaptive moment estimation\n"
   ]
  },
  {
   "cell_type": "code",
   "execution_count": 59,
   "metadata": {},
   "outputs": [
    {
     "name": "stdout",
     "output_type": "stream",
     "text": [
      "Theta from Adam in 1000 iters:  [-1.25371513  1.59072169]\n"
     ]
    }
   ],
   "source": [
    "def Adam(data, theta, lr=1e-2, beta1=0.9, beta2=0.999, epsilon=1e-8, num_iterations=10000):\n",
    "    mt = np.zeros(2)\n",
    "    vt = np.zeros(2)\n",
    "    for t in range(num_iterations):\n",
    "        gradients = compute_gradients(data, theta)\n",
    "        mt = beta1 * mt + (1 - beta1) * gradients\n",
    "        vt = beta2 * vt + (1 - beta2) * gradients ** 2\n",
    "        mt_hat = mt / (1 - beta1 ** (t + 1))\n",
    "        vt_hat = vt / (1 - beta2 ** (t + 1))\n",
    "        theta -= lr * mt_hat / (np.sqrt(vt_hat + epsilon))\n",
    "    return theta\n",
    "\n",
    "print(\"Theta from Adam in 1000 iters: \", Adam(data, theta))"
   ]
  },
  {
   "cell_type": "markdown",
   "metadata": {},
   "source": [
    "## Adamax - Adam based on infinity norm\n"
   ]
  },
  {
   "cell_type": "code",
   "execution_count": null,
   "metadata": {},
   "outputs": [],
   "source": [
    "def Adamax(data, theta, lr=1e-2, beta1=0.9, beta2=0.999, epsilon=1e-8, num_iterations=1000):\n",
    "    mt = np.zeros(2)\n",
    "    vt = np.zeros(2)\n",
    "    for t in range(num_iterations):\n",
    "        gradients = compute_gradients(data, theta)\n",
    "        mt = beta1 * mt + (1 - beta1) * gradients\n",
    "        vt = np.maximum(beta2 * vt, np.abs(gradients))\n",
    "        mt_hat = mt / (1 - beta1 ** (t + 1))\n",
    "        theta -= lr * mt_hat / (vt + epsilon)\n",
    "    return theta\n",
    "\n",
    "print(\"Theta from Adamax in 1000 iters: \",Adamax(data, theta))"
   ]
  },
  {
   "cell_type": "markdown",
   "metadata": {},
   "source": [
    "## AMSGrad\n"
   ]
  },
  {
   "cell_type": "code",
   "execution_count": 62,
   "metadata": {},
   "outputs": [
    {
     "name": "stdout",
     "output_type": "stream",
     "text": [
      "Theta from AMSGrad in 1000 iters:  [-1.27172207  1.61126424]\n"
     ]
    }
   ],
   "source": [
    "def AMSGrad(data, theta, lr=1e-2, beta1=0.9, beta2=0.999, epsilon=1e-8, num_iterations=1000):\n",
    "    mt = np.zeros(2)\n",
    "    vt = np.zeros(2)\n",
    "    vt_hat = np.zeros(2)\n",
    "    for t in range(num_iterations):\n",
    "        gradients = compute_gradients(data, theta)\n",
    "        mt = beta1 * mt + (1 - beta1) * gradients\n",
    "        vt = beta2 * vt + (1 - beta2) * gradients ** 2\n",
    "        vt_hat = np.maximum(vt_hat, vt)\n",
    "        mt_hat = mt / (1 - beta1 ** (t + 1))\n",
    "        theta -= lr * mt_hat / (np.sqrt(vt_hat) + epsilon)\n",
    "    return theta\n",
    "\n",
    "print(\"Theta from AMSGrad in 1000 iters: \", AMSGrad(data, theta))"
   ]
  },
  {
   "cell_type": "markdown",
   "metadata": {},
   "source": [
    "## Nadam - adding NAG to ADAM\n"
   ]
  },
  {
   "cell_type": "code",
   "execution_count": 63,
   "metadata": {},
   "outputs": [
    {
     "name": "stdout",
     "output_type": "stream",
     "text": [
      "Theta from nadam in 1000 iters:  [-1.27173797  1.61128238]\n"
     ]
    }
   ],
   "source": [
    "def nadam(data, theta, lr=1e-2, beta1=0.9, beta2=0.999, epsilon=1e-8, num_iterations=1000):\n",
    "    mt = np.zeros(2)\n",
    "    vt = np.zeros(2)\n",
    "    for t in range(num_iterations):\n",
    "        gradients = compute_gradients(data, theta)\n",
    "        mt = beta1 * mt + (1 - beta1) * gradients\n",
    "        vt = beta2 * vt + (1 - beta2) * gradients ** 2\n",
    "        mt_hat = mt / (1 - beta1 ** (t + 1))\n",
    "        vt_hat = vt / (1 - beta2 ** (t + 1))\n",
    "        theta -= lr * mt_hat / (np.sqrt(vt_hat) + epsilon) * (1 - beta1) / (1 - beta1 ** (t + 1))\n",
    "    return theta\n",
    "\n",
    "print(\"Theta from nadam in 1000 iters: \", nadam(data, theta))"
   ]
  },
  {
   "cell_type": "code",
   "execution_count": null,
   "metadata": {},
   "outputs": [],
   "source": []
  }
 ],
 "metadata": {
  "kernelspec": {
   "display_name": "venv",
   "language": "python",
   "name": "python3"
  },
  "language_info": {
   "codemirror_mode": {
    "name": "ipython",
    "version": 3
   },
   "file_extension": ".py",
   "mimetype": "text/x-python",
   "name": "python",
   "nbconvert_exporter": "python",
   "pygments_lexer": "ipython3",
   "version": "3.9.6"
  }
 },
 "nbformat": 4,
 "nbformat_minor": 2
}
