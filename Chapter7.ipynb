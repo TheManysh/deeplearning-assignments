{
  "cells": [
    {
      "cell_type": "markdown",
      "metadata": {
        "id": "xVrDVX9r_Hxc"
      },
      "source": [
        "## Learning Text Representations\n"
      ]
    },
    {
      "cell_type": "code",
      "execution_count": null,
      "metadata": {
        "id": "nS3BSBzeCTQ8"
      },
      "outputs": [],
      "source": [
        "import numpy as np"
      ]
    },
    {
      "cell_type": "markdown",
      "metadata": {},
      "source": [
        "## Softmax\n"
      ]
    },
    {
      "cell_type": "code",
      "execution_count": null,
      "metadata": {
        "id": "C4ODhfPf_LSE"
      },
      "outputs": [],
      "source": [
        "def softmax(u):\n",
        "    exp_u = np.exp(u - np.max(u))\n",
        "    return exp_u / np.sum(exp_u)"
      ]
    },
    {
      "cell_type": "markdown",
      "metadata": {},
      "source": [
        "## Single Context CBOW\n"
      ]
    },
    {
      "cell_type": "code",
      "execution_count": null,
      "metadata": {
        "id": "-P263WcuCU08"
      },
      "outputs": [],
      "source": [
        "def Single_context_CBOW(x, label, W1, W2, lr, loss):\n",
        "\n",
        "    # Forward propagation\n",
        "    h = np.dot(W1.T, x)\n",
        "    u = np.dot(W2.T, h)\n",
        "    y_pred = softmax(u)\n",
        "\n",
        "    # error\n",
        "    e = -label + y_pred\n",
        "\n",
        "    # Backward propagation\n",
        "    dW2 = np.outer(h, e)\n",
        "    dW1 = np.outer(x, np.dot(W2, e))\n",
        "\n",
        "    # Update weights\n",
        "    W1 = W1 - lr * dW1\n",
        "    W2 = W2 - lr * dW2\n",
        "\n",
        "    # Loss function\n",
        "    loss += -float(u[label == 1]) + np.log(np.sum(np.exp(u)))\n",
        "\n",
        "    return W1, W2, loss"
      ]
    },
    {
      "cell_type": "markdown",
      "metadata": {},
      "source": [
        "## Vocab Size and embedding dimensions\n"
      ]
    },
    {
      "cell_type": "code",
      "execution_count": null,
      "metadata": {
        "colab": {
          "base_uri": "https://localhost:8080/"
        },
        "id": "hgcxY5lVCtTi",
        "outputId": "105f2ee0-b504-452d-942b-70d9653d2654"
      },
      "outputs": [
        {
          "name": "stdout",
          "output_type": "stream",
          "text": [
            "Updated W1:\n",
            " [[0.33949013 0.23943481 0.7622218  0.17442242]\n",
            " [0.63267885 0.77316103 0.70096786 0.8586162 ]\n",
            " [0.62332115 0.68794873 0.94913127 0.93295125]\n",
            " [0.99465627 0.99016618 0.00751418 0.08912635]\n",
            " [0.0136116  0.24361729 0.2937138  0.77876469]\n",
            " [0.36391275 0.8738911  0.68047388 0.81120983]]\n",
            "Updated W2:\n",
            " [[0.83039455 0.04042438 0.11784894 0.18535095 0.43211524 0.51162481]\n",
            " [0.06214226 0.58996491 0.58299468 0.55541173 0.56423794 0.95482159]\n",
            " [0.90086651 0.29231934 0.72136398 0.02665192 0.51166888 0.42455776]\n",
            " [0.02313775 0.45507954 0.6852997  0.70280401 0.95928093 0.84953319]]\n",
            "Loss: 2.3487080242341025\n"
          ]
        },
        {
          "name": "stderr",
          "output_type": "stream",
          "text": [
            "<ipython-input-3-df01d5c4a8d0>:20: DeprecationWarning: Conversion of an array with ndim > 0 to a scalar is deprecated, and will error in future. Ensure you extract a single element from your array before performing this operation. (Deprecated NumPy 1.25.)\n",
            "  loss += -float(u[label == 1]) + np.log(np.sum(np.exp(u)))\n"
          ]
        }
      ],
      "source": [
        "# Vocabulary size and embedding dimensions\n",
        "vocab_size = 6\n",
        "embedding_dim = 4\n",
        "\n",
        "# Initialize random one-hot encoded input and label\n",
        "x = np.zeros((vocab_size, 1))\n",
        "x[2] = 1  # Example input word index\n",
        "\n",
        "label = np.zeros((vocab_size, 1))\n",
        "label[3] = 1  # Example target word index\n",
        "\n",
        "# Initialize weight matrices and learning rate\n",
        "W1 = np.random.rand(vocab_size, embedding_dim)\n",
        "W2 = np.random.rand(embedding_dim, vocab_size)\n",
        "lr = 0.01\n",
        "loss = 0\n",
        "\n",
        "# Training\n",
        "W1, W2, loss = Single_context_CBOW(x, label, W1, W2, lr, loss)\n",
        "\n",
        "print(\"Updated W1:\\n\", W1)\n",
        "print(\"Updated W2:\\n\", W2)\n",
        "print(\"Loss:\", loss)"
      ]
    },
    {
      "cell_type": "markdown",
      "metadata": {
        "id": "snlw1oSdFdxW"
      },
      "source": [
        "# Building the word2vec model using gensim\n"
      ]
    },
    {
      "cell_type": "code",
      "execution_count": null,
      "metadata": {
        "colab": {
          "base_uri": "https://localhost:8080/"
        },
        "id": "NmqjcDiqEfuS",
        "outputId": "06e6a593-3172-4e13-bb1d-50e18e595ac7"
      },
      "outputs": [
        {
          "name": "stderr",
          "output_type": "stream",
          "text": [
            "[nltk_data] Downloading package stopwords to /root/nltk_data...\n",
            "[nltk_data]   Package stopwords is already up-to-date!\n"
          ]
        }
      ],
      "source": [
        "import warnings\n",
        "warnings.filterwarnings('ignore')\n",
        "\n",
        "# Data processing\n",
        "import pandas as pd\n",
        "import re\n",
        "from nltk.corpus import stopwords\n",
        "import nltk\n",
        "nltk.download('stopwords')\n",
        "stopWords = stopwords.words('english')\n",
        "\n",
        "# Modeling\n",
        "from gensim.models import Word2Vec\n",
        "from gensim.models import Phrases\n",
        "from gensim.models.phrases import Phraser"
      ]
    },
    {
      "cell_type": "markdown",
      "metadata": {
        "id": "SUg0UhW9K6Xe"
      },
      "source": [
        "## Loading the dataset\n"
      ]
    },
    {
      "cell_type": "code",
      "execution_count": null,
      "metadata": {
        "id": "zWlfD1SUKSCN"
      },
      "outputs": [],
      "source": [
        "data = pd.read_csv('/content/text.csv',header=None)"
      ]
    },
    {
      "cell_type": "code",
      "execution_count": null,
      "metadata": {
        "colab": {
          "base_uri": "https://localhost:8080/",
          "height": 206
        },
        "id": "WHpnESa0K1TK",
        "outputId": "1a64107e-9f5a-4630-9f44-bdbfc303de61"
      },
      "outputs": [
        {
          "data": {
            "application/vnd.google.colaboratory.intrinsic+json": {
              "summary": "{\n  \"name\": \"data\",\n  \"rows\": 38932,\n  \"fields\": [\n    {\n      \"column\": 0,\n      \"properties\": {\n        \"dtype\": \"string\",\n        \"num_unique_values\": 38932,\n        \"samples\": [\n          \"arrived received upgraded room charge construction across street disruptive. went spoke jennifer front desk immediately offered give us another room located end hotel. personally showed us room ensure happy were. also helpful recommending local shows attractions. thank jennifer\",\n          \"read reviews affinia gardens good really wasnt sure expect. boy pleasantly surprised first room immaculate. little fussy comes cleanliness place spotless. four ladies sharing room recipe distaster right room different areas makeup area separate mirror near bathroom. kitchenette wonderful bagel coffee left classes. reason didnt rank five location take cab times square. place real gem.\",\n          \"new husband stayed hotel th november nights. booked hotel direct based reasonable room rate nyc excellent reviews tripadvisor. arrived yellow cab greeted lovely welcoming staff. advised upon booking almost year departing would honey moon. kindly upgraded us lower floor queen room superior highest floor possible . view empire state building left view hudson right. perfect. reception also sent couple cupcakes room note written offering congratulations. lovely hotel rooms per floor rooms access floor lift swiping door key lift. isnt constant flow people coming going rooms noisy etc etc. room nicely decorated enough room. bathroom modern lovely shower. hotel isnt nicest new york roads lets face walk hotel explore city back road hotel nights sleep. enough worry about. couple seedy shops. reception free coffee mornings warm apple afternoon. added extra could grab takeaway coffeeapple head destination. hotel apporx mins times square. far all. really loved feeling boutique style hotel loved fact bit undiscovered gem. always recommend hotel nyc.\"\n        ],\n        \"semantic_type\": \"\",\n        \"description\": \"\"\n      }\n    }\n  ]\n}",
              "type": "dataframe",
              "variable_name": "data"
            },
            "text/html": [
              "\n",
              "  <div id=\"df-a7e3ffce-7f2f-406f-8469-e77b1842e2d6\" class=\"colab-df-container\">\n",
              "    <div>\n",
              "<style scoped>\n",
              "    .dataframe tbody tr th:only-of-type {\n",
              "        vertical-align: middle;\n",
              "    }\n",
              "\n",
              "    .dataframe tbody tr th {\n",
              "        vertical-align: top;\n",
              "    }\n",
              "\n",
              "    .dataframe thead th {\n",
              "        text-align: right;\n",
              "    }\n",
              "</style>\n",
              "<table border=\"1\" class=\"dataframe\">\n",
              "  <thead>\n",
              "    <tr style=\"text-align: right;\">\n",
              "      <th></th>\n",
              "      <th>0</th>\n",
              "    </tr>\n",
              "  </thead>\n",
              "  <tbody>\n",
              "    <tr>\n",
              "      <th>0</th>\n",
              "      <td>room kind clean strong smell dogs. generally a...</td>\n",
              "    </tr>\n",
              "    <tr>\n",
              "      <th>1</th>\n",
              "      <td>stayed crown plaza april april . staff friendl...</td>\n",
              "    </tr>\n",
              "    <tr>\n",
              "      <th>2</th>\n",
              "      <td>booked hotel hotwire lowest price could find. ...</td>\n",
              "    </tr>\n",
              "    <tr>\n",
              "      <th>3</th>\n",
              "      <td>stayed husband sons way alaska cruise. loved h...</td>\n",
              "    </tr>\n",
              "    <tr>\n",
              "      <th>4</th>\n",
              "      <td>girlfriends stayed celebrate th birthdays. pla...</td>\n",
              "    </tr>\n",
              "  </tbody>\n",
              "</table>\n",
              "</div>\n",
              "    <div class=\"colab-df-buttons\">\n",
              "\n",
              "  <div class=\"colab-df-container\">\n",
              "    <button class=\"colab-df-convert\" onclick=\"convertToInteractive('df-a7e3ffce-7f2f-406f-8469-e77b1842e2d6')\"\n",
              "            title=\"Convert this dataframe to an interactive table.\"\n",
              "            style=\"display:none;\">\n",
              "\n",
              "  <svg xmlns=\"http://www.w3.org/2000/svg\" height=\"24px\" viewBox=\"0 -960 960 960\">\n",
              "    <path d=\"M120-120v-720h720v720H120Zm60-500h600v-160H180v160Zm220 220h160v-160H400v160Zm0 220h160v-160H400v160ZM180-400h160v-160H180v160Zm440 0h160v-160H620v160ZM180-180h160v-160H180v160Zm440 0h160v-160H620v160Z\"/>\n",
              "  </svg>\n",
              "    </button>\n",
              "\n",
              "  <style>\n",
              "    .colab-df-container {\n",
              "      display:flex;\n",
              "      gap: 12px;\n",
              "    }\n",
              "\n",
              "    .colab-df-convert {\n",
              "      background-color: #E8F0FE;\n",
              "      border: none;\n",
              "      border-radius: 50%;\n",
              "      cursor: pointer;\n",
              "      display: none;\n",
              "      fill: #1967D2;\n",
              "      height: 32px;\n",
              "      padding: 0 0 0 0;\n",
              "      width: 32px;\n",
              "    }\n",
              "\n",
              "    .colab-df-convert:hover {\n",
              "      background-color: #E2EBFA;\n",
              "      box-shadow: 0px 1px 2px rgba(60, 64, 67, 0.3), 0px 1px 3px 1px rgba(60, 64, 67, 0.15);\n",
              "      fill: #174EA6;\n",
              "    }\n",
              "\n",
              "    .colab-df-buttons div {\n",
              "      margin-bottom: 4px;\n",
              "    }\n",
              "\n",
              "    [theme=dark] .colab-df-convert {\n",
              "      background-color: #3B4455;\n",
              "      fill: #D2E3FC;\n",
              "    }\n",
              "\n",
              "    [theme=dark] .colab-df-convert:hover {\n",
              "      background-color: #434B5C;\n",
              "      box-shadow: 0px 1px 3px 1px rgba(0, 0, 0, 0.15);\n",
              "      filter: drop-shadow(0px 1px 2px rgba(0, 0, 0, 0.3));\n",
              "      fill: #FFFFFF;\n",
              "    }\n",
              "  </style>\n",
              "\n",
              "    <script>\n",
              "      const buttonEl =\n",
              "        document.querySelector('#df-a7e3ffce-7f2f-406f-8469-e77b1842e2d6 button.colab-df-convert');\n",
              "      buttonEl.style.display =\n",
              "        google.colab.kernel.accessAllowed ? 'block' : 'none';\n",
              "\n",
              "      async function convertToInteractive(key) {\n",
              "        const element = document.querySelector('#df-a7e3ffce-7f2f-406f-8469-e77b1842e2d6');\n",
              "        const dataTable =\n",
              "          await google.colab.kernel.invokeFunction('convertToInteractive',\n",
              "                                                    [key], {});\n",
              "        if (!dataTable) return;\n",
              "\n",
              "        const docLinkHtml = 'Like what you see? Visit the ' +\n",
              "          '<a target=\"_blank\" href=https://colab.research.google.com/notebooks/data_table.ipynb>data table notebook</a>'\n",
              "          + ' to learn more about interactive tables.';\n",
              "        element.innerHTML = '';\n",
              "        dataTable['output_type'] = 'display_data';\n",
              "        await google.colab.output.renderOutput(dataTable, element);\n",
              "        const docLink = document.createElement('div');\n",
              "        docLink.innerHTML = docLinkHtml;\n",
              "        element.appendChild(docLink);\n",
              "      }\n",
              "    </script>\n",
              "  </div>\n",
              "\n",
              "\n",
              "<div id=\"df-ef33eeb6-f37c-4ebc-8653-97c4e96f102c\">\n",
              "  <button class=\"colab-df-quickchart\" onclick=\"quickchart('df-ef33eeb6-f37c-4ebc-8653-97c4e96f102c')\"\n",
              "            title=\"Suggest charts\"\n",
              "            style=\"display:none;\">\n",
              "\n",
              "<svg xmlns=\"http://www.w3.org/2000/svg\" height=\"24px\"viewBox=\"0 0 24 24\"\n",
              "     width=\"24px\">\n",
              "    <g>\n",
              "        <path d=\"M19 3H5c-1.1 0-2 .9-2 2v14c0 1.1.9 2 2 2h14c1.1 0 2-.9 2-2V5c0-1.1-.9-2-2-2zM9 17H7v-7h2v7zm4 0h-2V7h2v10zm4 0h-2v-4h2v4z\"/>\n",
              "    </g>\n",
              "</svg>\n",
              "  </button>\n",
              "\n",
              "<style>\n",
              "  .colab-df-quickchart {\n",
              "      --bg-color: #E8F0FE;\n",
              "      --fill-color: #1967D2;\n",
              "      --hover-bg-color: #E2EBFA;\n",
              "      --hover-fill-color: #174EA6;\n",
              "      --disabled-fill-color: #AAA;\n",
              "      --disabled-bg-color: #DDD;\n",
              "  }\n",
              "\n",
              "  [theme=dark] .colab-df-quickchart {\n",
              "      --bg-color: #3B4455;\n",
              "      --fill-color: #D2E3FC;\n",
              "      --hover-bg-color: #434B5C;\n",
              "      --hover-fill-color: #FFFFFF;\n",
              "      --disabled-bg-color: #3B4455;\n",
              "      --disabled-fill-color: #666;\n",
              "  }\n",
              "\n",
              "  .colab-df-quickchart {\n",
              "    background-color: var(--bg-color);\n",
              "    border: none;\n",
              "    border-radius: 50%;\n",
              "    cursor: pointer;\n",
              "    display: none;\n",
              "    fill: var(--fill-color);\n",
              "    height: 32px;\n",
              "    padding: 0;\n",
              "    width: 32px;\n",
              "  }\n",
              "\n",
              "  .colab-df-quickchart:hover {\n",
              "    background-color: var(--hover-bg-color);\n",
              "    box-shadow: 0 1px 2px rgba(60, 64, 67, 0.3), 0 1px 3px 1px rgba(60, 64, 67, 0.15);\n",
              "    fill: var(--button-hover-fill-color);\n",
              "  }\n",
              "\n",
              "  .colab-df-quickchart-complete:disabled,\n",
              "  .colab-df-quickchart-complete:disabled:hover {\n",
              "    background-color: var(--disabled-bg-color);\n",
              "    fill: var(--disabled-fill-color);\n",
              "    box-shadow: none;\n",
              "  }\n",
              "\n",
              "  .colab-df-spinner {\n",
              "    border: 2px solid var(--fill-color);\n",
              "    border-color: transparent;\n",
              "    border-bottom-color: var(--fill-color);\n",
              "    animation:\n",
              "      spin 1s steps(1) infinite;\n",
              "  }\n",
              "\n",
              "  @keyframes spin {\n",
              "    0% {\n",
              "      border-color: transparent;\n",
              "      border-bottom-color: var(--fill-color);\n",
              "      border-left-color: var(--fill-color);\n",
              "    }\n",
              "    20% {\n",
              "      border-color: transparent;\n",
              "      border-left-color: var(--fill-color);\n",
              "      border-top-color: var(--fill-color);\n",
              "    }\n",
              "    30% {\n",
              "      border-color: transparent;\n",
              "      border-left-color: var(--fill-color);\n",
              "      border-top-color: var(--fill-color);\n",
              "      border-right-color: var(--fill-color);\n",
              "    }\n",
              "    40% {\n",
              "      border-color: transparent;\n",
              "      border-right-color: var(--fill-color);\n",
              "      border-top-color: var(--fill-color);\n",
              "    }\n",
              "    60% {\n",
              "      border-color: transparent;\n",
              "      border-right-color: var(--fill-color);\n",
              "    }\n",
              "    80% {\n",
              "      border-color: transparent;\n",
              "      border-right-color: var(--fill-color);\n",
              "      border-bottom-color: var(--fill-color);\n",
              "    }\n",
              "    90% {\n",
              "      border-color: transparent;\n",
              "      border-bottom-color: var(--fill-color);\n",
              "    }\n",
              "  }\n",
              "</style>\n",
              "\n",
              "  <script>\n",
              "    async function quickchart(key) {\n",
              "      const quickchartButtonEl =\n",
              "        document.querySelector('#' + key + ' button');\n",
              "      quickchartButtonEl.disabled = true;  // To prevent multiple clicks.\n",
              "      quickchartButtonEl.classList.add('colab-df-spinner');\n",
              "      try {\n",
              "        const charts = await google.colab.kernel.invokeFunction(\n",
              "            'suggestCharts', [key], {});\n",
              "      } catch (error) {\n",
              "        console.error('Error during call to suggestCharts:', error);\n",
              "      }\n",
              "      quickchartButtonEl.classList.remove('colab-df-spinner');\n",
              "      quickchartButtonEl.classList.add('colab-df-quickchart-complete');\n",
              "    }\n",
              "    (() => {\n",
              "      let quickchartButtonEl =\n",
              "        document.querySelector('#df-ef33eeb6-f37c-4ebc-8653-97c4e96f102c button');\n",
              "      quickchartButtonEl.style.display =\n",
              "        google.colab.kernel.accessAllowed ? 'block' : 'none';\n",
              "    })();\n",
              "  </script>\n",
              "</div>\n",
              "\n",
              "    </div>\n",
              "  </div>\n"
            ],
            "text/plain": [
              "                                                   0\n",
              "0  room kind clean strong smell dogs. generally a...\n",
              "1  stayed crown plaza april april . staff friendl...\n",
              "2  booked hotel hotwire lowest price could find. ...\n",
              "3  stayed husband sons way alaska cruise. loved h...\n",
              "4  girlfriends stayed celebrate th birthdays. pla..."
            ]
          },
          "execution_count": 7,
          "metadata": {},
          "output_type": "execute_result"
        }
      ],
      "source": [
        "data.head()"
      ]
    },
    {
      "cell_type": "markdown",
      "metadata": {
        "id": "T9brbomhLAGL"
      },
      "source": [
        "**Preprocessing and preparing the dataset**\n"
      ]
    },
    {
      "cell_type": "code",
      "execution_count": null,
      "metadata": {
        "id": "xB9zzAH_K5eZ"
      },
      "outputs": [],
      "source": [
        "def pre_process(text):\n",
        "    text = str(text).lower()\n",
        "    text = re.sub(r'[^A-Za-z0-9\\s.]',r'',text)\n",
        "    text = re.sub(r'\\n',r' ',text)\n",
        "    text = \" \".join([word for word in text.split() if word not in stopWords])\n",
        "    return text"
      ]
    },
    {
      "cell_type": "code",
      "execution_count": null,
      "metadata": {
        "colab": {
          "base_uri": "https://localhost:8080/",
          "height": 70
        },
        "id": "lKmdDnVILIda",
        "outputId": "75ea1ed1-e3cc-470a-86b6-e3e426f081e7"
      },
      "outputs": [
        {
          "data": {
            "application/vnd.google.colaboratory.intrinsic+json": {
              "type": "string"
            },
            "text/plain": [
              "'agree fancy. everything needed. breakfast pool hot tub nice shuttle airport later checkout time. noise issue tough sleep through. awhile forget noisy door nearby noisy guests. complained management later email credit compd us amount requested would return.'"
            ]
          },
          "execution_count": 9,
          "metadata": {},
          "output_type": "execute_result"
        }
      ],
      "source": [
        "pre_process(data[0][50])"
      ]
    },
    {
      "cell_type": "code",
      "execution_count": null,
      "metadata": {
        "id": "QnRetqT1LNfe"
      },
      "outputs": [],
      "source": [
        "data[0] = data[0].map(lambda x: pre_process(x))"
      ]
    },
    {
      "cell_type": "code",
      "execution_count": null,
      "metadata": {
        "colab": {
          "base_uri": "https://localhost:8080/"
        },
        "id": "xoK_Mr4dLRlf",
        "outputId": "2bde277c-7206-4d11-b636-fad554b5d640"
      },
      "outputs": [
        {
          "data": {
            "text/plain": [
              "['stayed crown plaza april april ',\n",
              " ' staff friendly attentive',\n",
              " ' elevators tiny ',\n",
              " ' food restaurant delicious priced little high side',\n",
              " ' course washington dc']"
            ]
          },
          "execution_count": 11,
          "metadata": {},
          "output_type": "execute_result"
        }
      ],
      "source": [
        "data[0][1].split(\".\")[:5]"
      ]
    },
    {
      "cell_type": "code",
      "execution_count": null,
      "metadata": {
        "id": "7N52jps1LWOs"
      },
      "outputs": [],
      "source": [
        "corpus = []\n",
        "for line in data[0][1].split('.'):\n",
        "    words = [x for x in line.split()]\n",
        "    corpus.append(words)"
      ]
    },
    {
      "cell_type": "code",
      "execution_count": null,
      "metadata": {
        "colab": {
          "base_uri": "https://localhost:8080/"
        },
        "id": "TfL_tNsJLfF2",
        "outputId": "e98ecd8e-1a4d-49a1-b37b-6154cbffa7a8"
      },
      "outputs": [
        {
          "data": {
            "text/plain": [
              "[['stayed', 'crown', 'plaza', 'april', 'april'],\n",
              " ['staff', 'friendly', 'attentive']]"
            ]
          },
          "execution_count": 13,
          "metadata": {},
          "output_type": "execute_result"
        }
      ],
      "source": [
        "corpus[:2]"
      ]
    },
    {
      "cell_type": "code",
      "execution_count": null,
      "metadata": {
        "colab": {
          "base_uri": "https://localhost:8080/"
        },
        "id": "9ILh7zQcLiOD",
        "outputId": "8509faef-fd8b-4608-9f57-c2fda9da6b77"
      },
      "outputs": [
        {
          "data": {
            "text/plain": [
              "[['room', 'kind', 'clean', 'strong', 'smell', 'dogs'],\n",
              " ['generally', 'average', 'ok', 'overnight', 'stay', 'youre', 'fussy']]"
            ]
          },
          "execution_count": 14,
          "metadata": {},
          "output_type": "execute_result"
        }
      ],
      "source": [
        "data = data[0].map(lambda x: x.split('.'))\n",
        "\n",
        "corpus = []\n",
        "for i in (range(len(data))):\n",
        "    for line in data[i]:\n",
        "        words = [x for x in line.split()]\n",
        "        corpus.append(words)\n",
        "\n",
        "corpus[:2]"
      ]
    },
    {
      "cell_type": "code",
      "execution_count": null,
      "metadata": {
        "id": "WQamrp-LLkXv"
      },
      "outputs": [],
      "source": [
        "phrases = Phrases(sentences=corpus,min_count=25,threshold=50)\n",
        "bigram = Phraser(phrases)"
      ]
    },
    {
      "cell_type": "code",
      "execution_count": null,
      "metadata": {
        "colab": {
          "base_uri": "https://localhost:8080/"
        },
        "id": "PCv7X_AjLpWm",
        "outputId": "e80523f4-f112-4f87-b417-f7011fe4c37e"
      },
      "outputs": [
        {
          "data": {
            "text/plain": [
              "['connected', 'rivercenter', 'mall', 'downtown', 'san', 'antonio']"
            ]
          },
          "execution_count": 16,
          "metadata": {},
          "output_type": "execute_result"
        }
      ],
      "source": [
        "corpus[111]"
      ]
    },
    {
      "cell_type": "code",
      "execution_count": null,
      "metadata": {
        "colab": {
          "base_uri": "https://localhost:8080/"
        },
        "id": "Ug-K6LiOLsIt",
        "outputId": "e9436e42-a6f7-491c-a39d-c9f258bebd16"
      },
      "outputs": [
        {
          "data": {
            "text/plain": [
              "['course', 'washington', 'dc']"
            ]
          },
          "execution_count": 17,
          "metadata": {},
          "output_type": "execute_result"
        }
      ],
      "source": [
        "corpus[9]"
      ]
    },
    {
      "cell_type": "markdown",
      "metadata": {
        "id": "XKsNsWf1LyG2"
      },
      "source": [
        "## Building the model\n"
      ]
    },
    {
      "cell_type": "code",
      "execution_count": null,
      "metadata": {
        "id": "6ddgoe-nLvNE"
      },
      "outputs": [],
      "source": [
        "size = 100\n",
        "window_size = 2\n",
        "epochs = 100\n",
        "min_count = 2\n",
        "workers = 4\n",
        "sg = 1"
      ]
    },
    {
      "cell_type": "code",
      "execution_count": null,
      "metadata": {
        "id": "OvrbE5gPL2p1"
      },
      "outputs": [],
      "source": [
        "model = Word2Vec(corpus, sg=1, window=window_size, vector_size=size, min_count=min_count, workers=workers, epochs=epochs)"
      ]
    },
    {
      "cell_type": "code",
      "execution_count": null,
      "metadata": {
        "id": "F4Nca9QDL4yu"
      },
      "outputs": [],
      "source": [
        "model.save('/content/word2vec.model')"
      ]
    },
    {
      "cell_type": "code",
      "execution_count": null,
      "metadata": {
        "id": "L3VYdI8bL8c9"
      },
      "outputs": [],
      "source": [
        "model = Word2Vec.load('/content/word2vec.model')"
      ]
    },
    {
      "cell_type": "markdown",
      "metadata": {
        "id": "HRwd3ysUR05q"
      },
      "source": [
        "## Evaluating the embeddings\n"
      ]
    },
    {
      "cell_type": "code",
      "execution_count": null,
      "metadata": {
        "colab": {
          "base_uri": "https://localhost:8080/"
        },
        "id": "M1uy4YdfSZfr",
        "outputId": "616fd181-dc77-489d-a45a-41189e403698"
      },
      "outputs": [
        {
          "name": "stdout",
          "output_type": "stream",
          "text": [
            "False\n",
            "False\n",
            "False\n"
          ]
        }
      ],
      "source": [
        "print('san_diego' in model.wv.key_to_index)\n",
        "print('san diego' in model.wv.key_to_index)\n",
        "print('San_Diego' in model.wv.key_to_index)"
      ]
    },
    {
      "cell_type": "code",
      "execution_count": null,
      "metadata": {
        "colab": {
          "base_uri": "https://localhost:8080/"
        },
        "id": "Urx2DVohL99F",
        "outputId": "8dd20b95-3a07-4bb1-8da6-cd5a8add9dd6"
      },
      "outputs": [
        {
          "data": {
            "text/plain": [
              "[('diego', 0.9160587787628174),\n",
              " ('francisco', 0.9062904715538025),\n",
              " ('antonio', 0.8464164137840271),\n",
              " ('fran', 0.8159115314483643),\n",
              " ('sf', 0.7527428865432739),\n",
              " ('dallas', 0.6760269403457642),\n",
              " ('la', 0.6679771542549133),\n",
              " ('austin', 0.6636949777603149),\n",
              " ('citysightseeing', 0.6597621440887451),\n",
              " ('seattle', 0.6534638404846191)]"
            ]
          },
          "execution_count": 30,
          "metadata": {},
          "output_type": "execute_result"
        }
      ],
      "source": [
        "model.wv.most_similar('san')"
      ]
    },
    {
      "cell_type": "code",
      "execution_count": null,
      "metadata": {
        "colab": {
          "base_uri": "https://localhost:8080/"
        },
        "id": "NmsS3ZTvR2u0",
        "outputId": "e9719fb4-495c-4f60-c75e-098d210916e0"
      },
      "outputs": [
        {
          "data": {
            "text/plain": [
              "[('queen', 0.6999184489250183)]"
            ]
          },
          "execution_count": 31,
          "metadata": {},
          "output_type": "execute_result"
        }
      ],
      "source": [
        "model.wv.most_similar(positive=['woman', 'king'], negative=['man'], topn=1)"
      ]
    },
    {
      "cell_type": "code",
      "execution_count": null,
      "metadata": {
        "colab": {
          "base_uri": "https://localhost:8080/",
          "height": 73
        },
        "id": "6gaZGP5OS7cr",
        "outputId": "2039453f-ec9a-4bd3-8a74-154a010283fd"
      },
      "outputs": [
        {
          "name": "stderr",
          "output_type": "stream",
          "text": [
            "WARNING:gensim.models.keyedvectors:vectors for words {'los_angeles', 'san_antonio', 'new_york'} are not present in the model, ignoring these words\n"
          ]
        },
        {
          "data": {
            "application/vnd.google.colaboratory.intrinsic+json": {
              "type": "string"
            },
            "text/plain": [
              "'holiday'"
            ]
          },
          "execution_count": 32,
          "metadata": {},
          "output_type": "execute_result"
        }
      ],
      "source": [
        "text = ['los_angeles','indianapolis', 'holiday', 'san_antonio','new_york']\n",
        "model.wv.doesnt_match(text)"
      ]
    },
    {
      "cell_type": "markdown",
      "metadata": {
        "id": "7hqXJUV-TNsA"
      },
      "source": [
        "## Visualizing word embeddings in TensorBoard\n"
      ]
    },
    {
      "cell_type": "code",
      "execution_count": null,
      "metadata": {
        "id": "tJa2g7AsTBbk"
      },
      "outputs": [],
      "source": [
        "import warnings\n",
        "warnings.filterwarnings(action='ignore')\n",
        "\n",
        "\n",
        "import tensorflow as tf\n",
        "tf.compat.v1.logging.set_verbosity(tf.compat.v1.logging.ERROR)\n",
        "tf.compat.v1.disable_eager_execution()\n",
        "\n",
        "tf.compat.v1.reset_default_graph()\n",
        "from tensorboard.plugins import projector\n",
        "import numpy as np\n",
        "import gensim\n",
        "import os"
      ]
    },
    {
      "cell_type": "code",
      "execution_count": null,
      "metadata": {
        "id": "cYma9W0-TYvM"
      },
      "outputs": [],
      "source": [
        "max_size = len(model.wv.index_to_key) - 1"
      ]
    },
    {
      "cell_type": "code",
      "execution_count": null,
      "metadata": {
        "id": "tUI3W-s9TerX"
      },
      "outputs": [],
      "source": [
        "w2v = np.zeros((max_size, model.vector_size))"
      ]
    },
    {
      "cell_type": "code",
      "execution_count": null,
      "metadata": {
        "id": "3TiaNSjqTof2"
      },
      "outputs": [],
      "source": [
        "if not os.path.exists('projections'):\n",
        "    os.makedirs('projections')\n",
        "\n",
        "with open(\"projections/metadata.tsv\", 'w+') as file_metadata:\n",
        "    for i, word in enumerate(model.wv.index_to_key[:max_size]):\n",
        "        w2v[i] = model.wv[word]\n",
        "        file_metadata.write(word + '\\n')"
      ]
    },
    {
      "cell_type": "code",
      "execution_count": null,
      "metadata": {
        "id": "VmxpszorTxiS"
      },
      "outputs": [],
      "source": [
        "sess = tf.compat.v1.InteractiveSession()"
      ]
    },
    {
      "cell_type": "code",
      "execution_count": null,
      "metadata": {
        "id": "8Qoo-kiGUEND"
      },
      "outputs": [],
      "source": [
        "with tf.device(\"/cpu:0\"):\n",
        "    embedding = tf.Variable(w2v, trainable=False, name='embedding')"
      ]
    },
    {
      "cell_type": "code",
      "execution_count": null,
      "metadata": {
        "id": "CMZclY9rUGhO"
      },
      "outputs": [],
      "source": [
        "tf.compat.v1.global_variables_initializer().run()"
      ]
    },
    {
      "cell_type": "code",
      "execution_count": null,
      "metadata": {
        "id": "RgsSrNj5UXEJ"
      },
      "outputs": [],
      "source": [
        "saver = tf.compat.v1.train.Saver()"
      ]
    },
    {
      "cell_type": "code",
      "execution_count": null,
      "metadata": {
        "id": "0v8mdVj4UmCL"
      },
      "outputs": [],
      "source": [
        "writer = tf.compat.v1.summary.FileWriter('projections', sess.graph)"
      ]
    },
    {
      "cell_type": "code",
      "execution_count": null,
      "metadata": {
        "id": "NjBv43wDUnAB"
      },
      "outputs": [],
      "source": [
        "config = projector.ProjectorConfig()\n",
        "embed= config.embeddings.add()"
      ]
    },
    {
      "cell_type": "code",
      "execution_count": null,
      "metadata": {
        "id": "XzqAcwcdUown"
      },
      "outputs": [],
      "source": [
        "embed.tensor_name = 'embedding'\n",
        "embed.metadata_path = 'metadata.tsv'"
      ]
    },
    {
      "cell_type": "code",
      "execution_count": null,
      "metadata": {
        "colab": {
          "base_uri": "https://localhost:8080/",
          "height": 36
        },
        "id": "hOmyIYi5Urta",
        "outputId": "34f5a2fc-840d-40d5-cfc7-83eb107b00d8"
      },
      "outputs": [
        {
          "data": {
            "application/vnd.google.colaboratory.intrinsic+json": {
              "type": "string"
            },
            "text/plain": [
              "'projections/model.ckpt-27330'"
            ]
          },
          "execution_count": 45,
          "metadata": {},
          "output_type": "execute_result"
        }
      ],
      "source": [
        "projector.visualize_embeddings(writer, config)\n",
        "\n",
        "saver.save(sess, 'projections/model.ckpt', global_step=max_size)"
      ]
    },
    {
      "cell_type": "markdown",
      "metadata": {
        "id": "5dhfBsJZU7ab"
      },
      "source": [
        "## Finding similar documents using doc2vec\n"
      ]
    },
    {
      "cell_type": "code",
      "execution_count": null,
      "metadata": {
        "id": "eI39QejZUt_z"
      },
      "outputs": [],
      "source": [
        "import warnings\n",
        "warnings.filterwarnings('ignore')\n",
        "\n",
        "import os\n",
        "import gensim\n",
        "from gensim.models.doc2vec import TaggedDocument\n",
        "\n",
        "from nltk import RegexpTokenizer\n",
        "from nltk.corpus import stopwords\n",
        "\n",
        "tokenizer = RegexpTokenizer(r'\\w+')\n",
        "stopWords = set(stopwords.words('english'))"
      ]
    },
    {
      "cell_type": "code",
      "execution_count": null,
      "metadata": {
        "id": "MQTl8XRhnD3N"
      },
      "outputs": [],
      "source": [
        "docLabels = []\n",
        "docLabels = [f for f in os.listdir('/content/news_dataset') if  f.endswith('.txt')]\n",
        "\n",
        "data = []\n",
        "for doc in docLabels:\n",
        "    data.append(open('/content/news_dataset/'+doc, encoding='utf-8', errors='ignore').read())"
      ]
    },
    {
      "cell_type": "code",
      "execution_count": null,
      "metadata": {
        "colab": {
          "base_uri": "https://localhost:8080/"
        },
        "id": "mNCESwk0Vv6Z",
        "outputId": "3959121a-00f5-49b1-b697-368853747776"
      },
      "outputs": [
        {
          "data": {
            "text/plain": [
              "['Electronics_669.txt',\n",
              " 'Electronics_476.txt',\n",
              " 'Politics_781.txt',\n",
              " 'Politics_401.txt',\n",
              " 'Electronics_750.txt']"
            ]
          },
          "execution_count": 72,
          "metadata": {},
          "output_type": "execute_result"
        }
      ],
      "source": [
        "docLabels[:5]"
      ]
    },
    {
      "cell_type": "code",
      "execution_count": null,
      "metadata": {
        "id": "ThX7hF32WtvY"
      },
      "outputs": [],
      "source": [
        "class DocIterator(object):\n",
        "    def __init__(self, doc_list, labels_list):\n",
        "        self.labels_list = labels_list\n",
        "        self.doc_list = doc_list\n",
        "\n",
        "    def __iter__(self):\n",
        "        for idx, doc in enumerate(self.doc_list):\n",
        "            yield TaggedDocument(words=doc.split(), tags=[self.labels_list[idx]])"
      ]
    },
    {
      "cell_type": "code",
      "execution_count": null,
      "metadata": {
        "id": "SGwPIEoVWvYC"
      },
      "outputs": [],
      "source": [
        "it = DocIterator(data, docLabels)"
      ]
    },
    {
      "cell_type": "code",
      "execution_count": null,
      "metadata": {
        "id": "5muvJYQDWwth"
      },
      "outputs": [],
      "source": [
        "size = 100\n",
        "alpha = 0.025\n",
        "min_alpha = 0.025\n",
        "dm = 1\n",
        "min_count = 1"
      ]
    },
    {
      "cell_type": "code",
      "execution_count": null,
      "metadata": {
        "id": "1LIVEEi6WyH5"
      },
      "outputs": [],
      "source": [
        "model = gensim.models.Doc2Vec(vector_size=size, min_count=min_count, alpha=alpha, min_alpha=min_alpha, dm=dm)\n",
        "model.build_vocab(it)"
      ]
    },
    {
      "cell_type": "code",
      "execution_count": null,
      "metadata": {
        "id": "SK9J1UzYW0Z5"
      },
      "outputs": [],
      "source": [
        "for epoch in range(100):\n",
        "    model.train(it, total_examples=model.corpus_count, epochs=1)\n",
        "    model.alpha -= 0.002\n",
        "    model.min_alpha = model.alpha"
      ]
    },
    {
      "cell_type": "code",
      "execution_count": null,
      "metadata": {
        "id": "Brd8ePDLW2Jj"
      },
      "outputs": [],
      "source": [
        "model.save('/content/doc2vec.model')"
      ]
    },
    {
      "cell_type": "code",
      "execution_count": null,
      "metadata": {
        "id": "nusgnWnkW8DJ"
      },
      "outputs": [],
      "source": [
        "d2v_model = gensim.models.doc2vec.Doc2Vec.load('/content/doc2vec.model')"
      ]
    },
    {
      "cell_type": "code",
      "execution_count": null,
      "metadata": {
        "colab": {
          "base_uri": "https://localhost:8080/"
        },
        "id": "SrCoiEsKW9jI",
        "outputId": "e6fc2880-bc65-43c8-c57a-fca6c5f2760b"
      },
      "outputs": [
        {
          "data": {
            "text/plain": [
              "[('Electronics_905.txt', 0.9707800149917603),\n",
              " ('Politics_167.txt', 0.9686378836631775),\n",
              " ('Politics_989.txt', 0.9581860899925232),\n",
              " ('Politics_37.txt', 0.9514307975769043),\n",
              " ('Science_31.txt', 0.9499551653862),\n",
              " ('Electronics_132.txt', 0.9492486715316772),\n",
              " ('Politics_285.txt', 0.9489672780036926),\n",
              " ('Electronics_541.txt', 0.9460381269454956),\n",
              " ('Electronics_180.txt', 0.9449853301048279),\n",
              " ('Politics_320.txt', 0.9384676218032837)]"
            ]
          },
          "execution_count": 84,
          "metadata": {},
          "output_type": "execute_result"
        }
      ],
      "source": [
        "model.docvecs.most_similar('Electronics_666.txt')"
      ]
    }
  ],
  "metadata": {
    "colab": {
      "provenance": []
    },
    "kernelspec": {
      "display_name": "Python 3",
      "name": "python3"
    },
    "language_info": {
      "name": "python"
    }
  },
  "nbformat": 4,
  "nbformat_minor": 0
}
